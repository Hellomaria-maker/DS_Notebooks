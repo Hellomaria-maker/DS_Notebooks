{
 "cells": [
  {
   "cell_type": "code",
   "execution_count": 1,
   "id": "2a2abeba",
   "metadata": {},
   "outputs": [],
   "source": [
    "import pandas as pd\n",
    "import numpy as np\n",
    "\n",
    "from IPython.core.interactiveshell import InteractiveShell\n",
    "InteractiveShell.ast_node_interactivity = \"all\""
   ]
  },
  {
   "cell_type": "markdown",
   "id": "f1b3d0f0",
   "metadata": {},
   "source": [
    "## Точки клиента"
   ]
  },
  {
   "cell_type": "code",
   "execution_count": 2,
   "id": "246e35fd",
   "metadata": {},
   "outputs": [
    {
     "data": {
      "text/html": [
       "<div>\n",
       "<style scoped>\n",
       "    .dataframe tbody tr th:only-of-type {\n",
       "        vertical-align: middle;\n",
       "    }\n",
       "\n",
       "    .dataframe tbody tr th {\n",
       "        vertical-align: top;\n",
       "    }\n",
       "\n",
       "    .dataframe thead th {\n",
       "        text-align: right;\n",
       "    }\n",
       "</style>\n",
       "<table border=\"1\" class=\"dataframe\">\n",
       "  <thead>\n",
       "    <tr style=\"text-align: right;\">\n",
       "      <th></th>\n",
       "      <th>id точки</th>\n",
       "      <th>Адрес</th>\n",
       "      <th>Широта</th>\n",
       "      <th>Долгота</th>\n",
       "      <th>Дата открытия</th>\n",
       "      <th>Дата закрытия</th>\n",
       "      <th>Площадь магазина</th>\n",
       "      <th>Тип входа</th>\n",
       "      <th>Площадь ТЦ</th>\n",
       "      <th>Формат магазина</th>\n",
       "      <th>...</th>\n",
       "      <th>Этаж</th>\n",
       "      <th>Время работы</th>\n",
       "      <th>Заполненность ТЦ</th>\n",
       "      <th>Рядом с эскалатором</th>\n",
       "      <th>Рядом со входом</th>\n",
       "      <th>Конкуренты в ТЦ</th>\n",
       "      <th>Расположение в ТЦ</th>\n",
       "      <th>Толока</th>\n",
       "      <th>Люкс</th>\n",
       "      <th>Выборка</th>\n",
       "    </tr>\n",
       "  </thead>\n",
       "  <tbody>\n",
       "    <tr>\n",
       "      <th>0</th>\n",
       "      <td>8955.0</td>\n",
       "      <td>Оренбургская обл, Оренбург г, Шарлыкское ш, д...</td>\n",
       "      <td>55.118272</td>\n",
       "      <td>51.843127</td>\n",
       "      <td>11/9/2016</td>\n",
       "      <td>NaN</td>\n",
       "      <td>478</td>\n",
       "      <td>без сквозного прохода</td>\n",
       "      <td>130000.0</td>\n",
       "      <td>ТЦ</td>\n",
       "      <td>...</td>\n",
       "      <td>3</td>\n",
       "      <td>с 10:00 до 22:00</td>\n",
       "      <td>NaN</td>\n",
       "      <td>0</td>\n",
       "      <td>0</td>\n",
       "      <td>1.0</td>\n",
       "      <td>7</td>\n",
       "      <td>38</td>\n",
       "      <td>70</td>\n",
       "      <td>Обучающая</td>\n",
       "    </tr>\n",
       "    <tr>\n",
       "      <th>1</th>\n",
       "      <td>11007.0</td>\n",
       "      <td>Алтайский край, г. Барнаул, ул. Малахова, дом ...</td>\n",
       "      <td>83.696799</td>\n",
       "      <td>53.356954</td>\n",
       "      <td>4/26/2010</td>\n",
       "      <td>NaN</td>\n",
       "      <td>332</td>\n",
       "      <td>сквозной проход</td>\n",
       "      <td>31500.0</td>\n",
       "      <td>ТЦ</td>\n",
       "      <td>...</td>\n",
       "      <td>1</td>\n",
       "      <td>с 10:00 до 22:00</td>\n",
       "      <td>NaN</td>\n",
       "      <td>0</td>\n",
       "      <td>1</td>\n",
       "      <td>NaN</td>\n",
       "      <td>9</td>\n",
       "      <td>58</td>\n",
       "      <td>67</td>\n",
       "      <td>Обучающая</td>\n",
       "    </tr>\n",
       "  </tbody>\n",
       "</table>\n",
       "<p>2 rows × 21 columns</p>\n",
       "</div>"
      ],
      "text/plain": [
       "   id точки                                              Адрес     Широта  \\\n",
       "0    8955.0   Оренбургская обл, Оренбург г, Шарлыкское ш, д...  55.118272   \n",
       "1   11007.0  Алтайский край, г. Барнаул, ул. Малахова, дом ...  83.696799   \n",
       "\n",
       "     Долгота Дата открытия Дата закрытия  Площадь магазина  \\\n",
       "0  51.843127     11/9/2016           NaN               478   \n",
       "1  53.356954     4/26/2010           NaN               332   \n",
       "\n",
       "               Тип входа  Площадь ТЦ Формат магазина  ... Этаж  \\\n",
       "0  без сквозного прохода    130000.0              ТЦ  ...    3   \n",
       "1        сквозной проход     31500.0              ТЦ  ...    1   \n",
       "\n",
       "       Время работы Заполненность ТЦ  Рядом с эскалатором  Рядом со входом  \\\n",
       "0  с 10:00 до 22:00              NaN                    0                0   \n",
       "1  с 10:00 до 22:00              NaN                    0                1   \n",
       "\n",
       "   Конкуренты в ТЦ  Расположение в ТЦ Толока  Люкс    Выборка  \n",
       "0              1.0                  7     38    70  Обучающая  \n",
       "1              NaN                  9     58    67  Обучающая  \n",
       "\n",
       "[2 rows x 21 columns]"
      ]
     },
     "execution_count": 2,
     "metadata": {},
     "output_type": "execute_result"
    },
    {
     "data": {
      "text/plain": [
       "(246, 21)"
      ]
     },
     "execution_count": 2,
     "metadata": {},
     "output_type": "execute_result"
    }
   ],
   "source": [
    "df_points = pd.read_csv('data_points.csv')\n",
    "df_points.head(2)\n",
    "\n",
    "df_points.shape"
   ]
  },
  {
   "cell_type": "code",
   "execution_count": 3,
   "id": "1d50726d",
   "metadata": {
    "scrolled": false
   },
   "outputs": [
    {
     "data": {
      "text/plain": [
       "Index(['id точки', 'Адрес', 'Широта', 'Долгота', 'Дата открытия',\n",
       "       'Дата закрытия', 'Площадь магазина', 'Тип входа', 'Площадь ТЦ',\n",
       "       'Формат магазина', 'Парковка', 'Этаж', 'Время работы',\n",
       "       'Заполненность ТЦ', 'Рядом с эскалатором', 'Рядом со входом',\n",
       "       'Конкуренты в ТЦ', 'Расположение в ТЦ', 'Толока', 'Люкс', 'Выборка'],\n",
       "      dtype='object')"
      ]
     },
     "execution_count": 3,
     "metadata": {},
     "output_type": "execute_result"
    }
   ],
   "source": [
    "df_points.columns"
   ]
  },
  {
   "cell_type": "markdown",
   "id": "97397900",
   "metadata": {},
   "source": [
    "## Выручка на точках"
   ]
  },
  {
   "cell_type": "code",
   "execution_count": 4,
   "id": "5b1ab447",
   "metadata": {
    "scrolled": true
   },
   "outputs": [
    {
     "data": {
      "text/html": [
       "<div>\n",
       "<style scoped>\n",
       "    .dataframe tbody tr th:only-of-type {\n",
       "        vertical-align: middle;\n",
       "    }\n",
       "\n",
       "    .dataframe tbody tr th {\n",
       "        vertical-align: top;\n",
       "    }\n",
       "\n",
       "    .dataframe thead th {\n",
       "        text-align: right;\n",
       "    }\n",
       "</style>\n",
       "<table border=\"1\" class=\"dataframe\">\n",
       "  <thead>\n",
       "    <tr style=\"text-align: right;\">\n",
       "      <th></th>\n",
       "      <th>id точки</th>\n",
       "      <th>2015-01-01</th>\n",
       "      <th>2015-02-01</th>\n",
       "      <th>2015-03-01</th>\n",
       "      <th>2015-04-01</th>\n",
       "      <th>2015-05-01</th>\n",
       "      <th>2015-06-01</th>\n",
       "      <th>2015-07-01</th>\n",
       "      <th>2015-08-01</th>\n",
       "      <th>2015-09-01</th>\n",
       "      <th>...</th>\n",
       "      <th>2018-01-01</th>\n",
       "      <th>2018-02-01</th>\n",
       "      <th>2018-04-01</th>\n",
       "      <th>2018-05-01</th>\n",
       "      <th>2018-06-01</th>\n",
       "      <th>2018-07-01</th>\n",
       "      <th>2018-08-01</th>\n",
       "      <th>2018-09-01</th>\n",
       "      <th>2018-10-01</th>\n",
       "      <th>2018-11-01</th>\n",
       "    </tr>\n",
       "  </thead>\n",
       "  <tbody>\n",
       "    <tr>\n",
       "      <th>0</th>\n",
       "      <td>11366.0</td>\n",
       "      <td>245 709,34</td>\n",
       "      <td>301 024,69</td>\n",
       "      <td>406 199,78</td>\n",
       "      <td>295 602,85</td>\n",
       "      <td>268 179,17</td>\n",
       "      <td>266 579,01</td>\n",
       "      <td>202 667,04</td>\n",
       "      <td>207 347,02</td>\n",
       "      <td>237 393,22</td>\n",
       "      <td>...</td>\n",
       "      <td>271 084,02</td>\n",
       "      <td>298 845,27</td>\n",
       "      <td>277 776,35</td>\n",
       "      <td>270 902,92</td>\n",
       "      <td>280 106,10</td>\n",
       "      <td>243 448,84</td>\n",
       "      <td>236 709,82</td>\n",
       "      <td>248 268,78</td>\n",
       "      <td>296 637,10</td>\n",
       "      <td>314 456,87</td>\n",
       "    </tr>\n",
       "    <tr>\n",
       "      <th>1</th>\n",
       "      <td>11810.0</td>\n",
       "      <td>270 245,84</td>\n",
       "      <td>297 964,82</td>\n",
       "      <td>406 198,18</td>\n",
       "      <td>232 433,26</td>\n",
       "      <td>229 317,71</td>\n",
       "      <td>251 403,31</td>\n",
       "      <td>242 000,56</td>\n",
       "      <td>260 407,11</td>\n",
       "      <td>267 051,16</td>\n",
       "      <td>...</td>\n",
       "      <td>245 402,38</td>\n",
       "      <td>273 515,01</td>\n",
       "      <td>240 088,29</td>\n",
       "      <td>196 260,47</td>\n",
       "      <td>228 920,59</td>\n",
       "      <td>204 058,83</td>\n",
       "      <td>207 104,01</td>\n",
       "      <td>203 499,41</td>\n",
       "      <td>206 013,02</td>\n",
       "      <td>218 636,44</td>\n",
       "    </tr>\n",
       "  </tbody>\n",
       "</table>\n",
       "<p>2 rows × 47 columns</p>\n",
       "</div>"
      ],
      "text/plain": [
       "   id точки  2015-01-01  2015-02-01  2015-03-01  2015-04-01  2015-05-01  \\\n",
       "0   11366.0  245 709,34  301 024,69  406 199,78  295 602,85  268 179,17   \n",
       "1   11810.0  270 245,84  297 964,82  406 198,18  232 433,26  229 317,71   \n",
       "\n",
       "   2015-06-01  2015-07-01  2015-08-01  2015-09-01  ...  2018-01-01  \\\n",
       "0  266 579,01  202 667,04  207 347,02  237 393,22  ...  271 084,02   \n",
       "1  251 403,31  242 000,56  260 407,11  267 051,16  ...  245 402,38   \n",
       "\n",
       "   2018-02-01  2018-04-01  2018-05-01  2018-06-01  2018-07-01  2018-08-01  \\\n",
       "0  298 845,27  277 776,35  270 902,92  280 106,10  243 448,84  236 709,82   \n",
       "1  273 515,01  240 088,29  196 260,47  228 920,59  204 058,83  207 104,01   \n",
       "\n",
       "   2018-09-01  2018-10-01  2018-11-01  \n",
       "0  248 268,78  296 637,10  314 456,87  \n",
       "1  203 499,41  206 013,02  218 636,44  \n",
       "\n",
       "[2 rows x 47 columns]"
      ]
     },
     "execution_count": 4,
     "metadata": {},
     "output_type": "execute_result"
    },
    {
     "data": {
      "text/plain": [
       "(155, 47)"
      ]
     },
     "execution_count": 4,
     "metadata": {},
     "output_type": "execute_result"
    }
   ],
   "source": [
    "df_proceeds = pd.read_csv('proceeds_data.csv', encoding ='utf-8')\n",
    "df_proceeds.head(2)\n",
    "\n",
    "df_proceeds.shape"
   ]
  },
  {
   "cell_type": "code",
   "execution_count": 5,
   "id": "754ca698",
   "metadata": {
    "scrolled": true
   },
   "outputs": [
    {
     "data": {
      "text/plain": [
       "Index(['id точки', '2015-01-01', '2015-02-01', '2015-03-01', '2015-04-01',\n",
       "       '2015-05-01', '2015-06-01', '2015-07-01', '2015-08-01', '2015-09-01',\n",
       "       '2015-10-01', '2015-11-01', '2015-12-01', '2016-01-01', '2016-02-01',\n",
       "       '2016-03-01', '2016-04-01', '2016-05-01', '2016-06-01', '2016-07-01',\n",
       "       '2016-08-01', '2016-09-01', '2016-10-01', '2016-11-01', '2016-12-01',\n",
       "       '2017-01-01', '2017-02-01', '2017-03-01', '2017-04-01', '2017-05-01',\n",
       "       '2017-06-01', '2017-07-01', '2017-08-01', '2017-09-01', '2017-10-01',\n",
       "       '2017-11-01', '2017-12-01', '2018-01-01', '2018-02-01', '2018-04-01',\n",
       "       '2018-05-01', '2018-06-01', '2018-07-01', '2018-08-01', '2018-09-01',\n",
       "       '2018-10-01', '2018-11-01'],\n",
       "      dtype='object')"
      ]
     },
     "execution_count": 5,
     "metadata": {},
     "output_type": "execute_result"
    }
   ],
   "source": [
    "df_proceeds.columns"
   ]
  },
  {
   "cell_type": "code",
   "execution_count": 6,
   "id": "9cd2570d",
   "metadata": {},
   "outputs": [],
   "source": [
    "# Приведем данные о выручке к виду float\n",
    "df_proceeds = df_proceeds[df_proceeds.columns].astype(str)\n",
    "\n",
    "for col in df_proceeds.columns:\n",
    "    df_proceeds[col] = df_proceeds[col].str.replace(',','.')\n",
    "    df_proceeds[col] = df_proceeds[col].str.replace(' ','')\n",
    "    df_proceeds[col] = df_proceeds[col].str.replace('\\xa0', '')\n",
    "    df_proceeds[col] = df_proceeds[col].astype(float)"
   ]
  },
  {
   "cell_type": "code",
   "execution_count": 7,
   "id": "ca0716a7",
   "metadata": {},
   "outputs": [
    {
     "data": {
      "text/html": [
       "<div>\n",
       "<style scoped>\n",
       "    .dataframe tbody tr th:only-of-type {\n",
       "        vertical-align: middle;\n",
       "    }\n",
       "\n",
       "    .dataframe tbody tr th {\n",
       "        vertical-align: top;\n",
       "    }\n",
       "\n",
       "    .dataframe thead th {\n",
       "        text-align: right;\n",
       "    }\n",
       "</style>\n",
       "<table border=\"1\" class=\"dataframe\">\n",
       "  <thead>\n",
       "    <tr style=\"text-align: right;\">\n",
       "      <th></th>\n",
       "      <th>id точки</th>\n",
       "      <th>2015-01-01</th>\n",
       "      <th>2015-02-01</th>\n",
       "      <th>2015-03-01</th>\n",
       "      <th>2015-04-01</th>\n",
       "      <th>2015-05-01</th>\n",
       "      <th>2015-06-01</th>\n",
       "      <th>2015-07-01</th>\n",
       "      <th>2015-08-01</th>\n",
       "      <th>2015-09-01</th>\n",
       "      <th>...</th>\n",
       "      <th>2018-01-01</th>\n",
       "      <th>2018-02-01</th>\n",
       "      <th>2018-04-01</th>\n",
       "      <th>2018-05-01</th>\n",
       "      <th>2018-06-01</th>\n",
       "      <th>2018-07-01</th>\n",
       "      <th>2018-08-01</th>\n",
       "      <th>2018-09-01</th>\n",
       "      <th>2018-10-01</th>\n",
       "      <th>2018-11-01</th>\n",
       "    </tr>\n",
       "  </thead>\n",
       "  <tbody>\n",
       "    <tr>\n",
       "      <th>0</th>\n",
       "      <td>11366.0</td>\n",
       "      <td>245709.34</td>\n",
       "      <td>301024.69</td>\n",
       "      <td>406199.78</td>\n",
       "      <td>295602.85</td>\n",
       "      <td>268179.17</td>\n",
       "      <td>266579.01</td>\n",
       "      <td>202667.04</td>\n",
       "      <td>207347.02</td>\n",
       "      <td>237393.22</td>\n",
       "      <td>...</td>\n",
       "      <td>271084.02</td>\n",
       "      <td>298845.27</td>\n",
       "      <td>277776.35</td>\n",
       "      <td>270902.92</td>\n",
       "      <td>280106.10</td>\n",
       "      <td>243448.84</td>\n",
       "      <td>236709.82</td>\n",
       "      <td>248268.78</td>\n",
       "      <td>296637.10</td>\n",
       "      <td>314456.87</td>\n",
       "    </tr>\n",
       "    <tr>\n",
       "      <th>1</th>\n",
       "      <td>11810.0</td>\n",
       "      <td>270245.84</td>\n",
       "      <td>297964.82</td>\n",
       "      <td>406198.18</td>\n",
       "      <td>232433.26</td>\n",
       "      <td>229317.71</td>\n",
       "      <td>251403.31</td>\n",
       "      <td>242000.56</td>\n",
       "      <td>260407.11</td>\n",
       "      <td>267051.16</td>\n",
       "      <td>...</td>\n",
       "      <td>245402.38</td>\n",
       "      <td>273515.01</td>\n",
       "      <td>240088.29</td>\n",
       "      <td>196260.47</td>\n",
       "      <td>228920.59</td>\n",
       "      <td>204058.83</td>\n",
       "      <td>207104.01</td>\n",
       "      <td>203499.41</td>\n",
       "      <td>206013.02</td>\n",
       "      <td>218636.44</td>\n",
       "    </tr>\n",
       "  </tbody>\n",
       "</table>\n",
       "<p>2 rows × 47 columns</p>\n",
       "</div>"
      ],
      "text/plain": [
       "   id точки  2015-01-01  2015-02-01  2015-03-01  2015-04-01  2015-05-01  \\\n",
       "0   11366.0   245709.34   301024.69   406199.78   295602.85   268179.17   \n",
       "1   11810.0   270245.84   297964.82   406198.18   232433.26   229317.71   \n",
       "\n",
       "   2015-06-01  2015-07-01  2015-08-01  2015-09-01  ...  2018-01-01  \\\n",
       "0   266579.01   202667.04   207347.02   237393.22  ...   271084.02   \n",
       "1   251403.31   242000.56   260407.11   267051.16  ...   245402.38   \n",
       "\n",
       "   2018-02-01  2018-04-01  2018-05-01  2018-06-01  2018-07-01  2018-08-01  \\\n",
       "0   298845.27   277776.35   270902.92   280106.10   243448.84   236709.82   \n",
       "1   273515.01   240088.29   196260.47   228920.59   204058.83   207104.01   \n",
       "\n",
       "   2018-09-01  2018-10-01  2018-11-01  \n",
       "0   248268.78   296637.10   314456.87  \n",
       "1   203499.41   206013.02   218636.44  \n",
       "\n",
       "[2 rows x 47 columns]"
      ]
     },
     "execution_count": 7,
     "metadata": {},
     "output_type": "execute_result"
    }
   ],
   "source": [
    "  df_proceeds.head(2)"
   ]
  },
  {
   "cell_type": "markdown",
   "id": "968e52f2",
   "metadata": {},
   "source": [
    "### Категориальные признаки"
   ]
  },
  {
   "cell_type": "code",
   "execution_count": 8,
   "id": "92cdea1c",
   "metadata": {},
   "outputs": [
    {
     "name": "stdout",
     "output_type": "stream",
     "text": [
      "Тип входа : ['без сквозного прохода' 'сквозной проход'\n",
      " 'отдельный вход с улицы + сквозной проход' 'отдельный вход с улицы'\n",
      " 'единственный вход в ТК' nan]\n",
      "Формат магазина : ['ТЦ' 'Street' 'Мини ТЦ' 'Стрит' 'Мини-ТЦ' 'Strееt' 'Стрт']\n",
      "Парковка : ['бесплатная парковка' '100' nan 'платная парковка' 'нет парковки' '1000'\n",
      " '700' 'бесплатная паpковка']\n",
      "Этаж : ['3' '1' 'цоколь' nan '2' '4,5' '20' '2-мая']\n",
      "Выборка : ['Обучающая' 'Тестовая' '-' nan 'Тест' 'Обyчающая']\n"
     ]
    }
   ],
   "source": [
    "# Проверка формата категриальных прзнаков\n",
    "cat_columns = ['Тип входа', 'Формат магазина', 'Парковка', 'Этаж', 'Выборка']\n",
    "\n",
    "for col in cat_columns:\n",
    "    print(col, ':', df_points[col].unique())"
   ]
  },
  {
   "cell_type": "raw",
   "id": "cdca5828",
   "metadata": {},
   "source": [
    "Необходимо привести признаки к одному виду."
   ]
  },
  {
   "cell_type": "code",
   "execution_count": 9,
   "id": "e297f96a",
   "metadata": {},
   "outputs": [
    {
     "data": {
      "text/plain": [
       "array(['test', 'train'], dtype=object)"
      ]
     },
     "execution_count": 9,
     "metadata": {},
     "output_type": "execute_result"
    }
   ],
   "source": [
    "# Train и test выборки\n",
    "df_points.loc[(df_points['id точки'].isin(df_proceeds['id точки']), 'Выборка')] = 'train'\n",
    "df_points.loc[(df_points['Выборка'] != 'train'), 'Выборка'] = 'test'\n",
    "\n",
    "\n",
    "df_points['Выборка'].unique()"
   ]
  },
  {
   "cell_type": "code",
   "execution_count": 10,
   "id": "fd3ede96",
   "metadata": {},
   "outputs": [
    {
     "data": {
      "text/plain": [
       "array(['бесплатная парковка', '100', nan, 'платная парковка',\n",
       "       'нет парковки', '1000', '700', 'бесплатная паpковка'], dtype=object)"
      ]
     },
     "execution_count": 10,
     "metadata": {},
     "output_type": "execute_result"
    },
    {
     "data": {
      "text/plain": [
       "array(['free', 'paid', 'no_parking'], dtype=object)"
      ]
     },
     "execution_count": 10,
     "metadata": {},
     "output_type": "execute_result"
    }
   ],
   "source": [
    "# Приведем формат парковки к одному виду\n",
    "df_points['Парковка'].unique()\n",
    "\n",
    "df_points.loc[(df_points['Парковка'].isin(['100', '1000', '700', 'платная парковка']), 'Парковка')] = 'paid'\n",
    "df_points.loc[(df_points['Парковка'].isin(['бесплатная парковка','бесплатная паpковка']), 'Парковка')] = 'free'\n",
    "df_points.loc[(~(df_points['Парковка'].isin(['free','paid'])), 'Парковка')] = 'no_parking'\n",
    "\n",
    "df_points['Парковка'].unique()"
   ]
  },
  {
   "cell_type": "code",
   "execution_count": 11,
   "id": "6ddc3566",
   "metadata": {},
   "outputs": [
    {
     "data": {
      "text/plain": [
       "array(['ТЦ', 'Street', 'Мини ТЦ', 'Стрит', 'Мини-ТЦ', 'Strееt', 'Стрт'],\n",
       "      dtype=object)"
      ]
     },
     "execution_count": 11,
     "metadata": {},
     "output_type": "execute_result"
    },
    {
     "data": {
      "text/plain": [
       "array(['ТЦ', 'Стрит', 'мини-ТЦ'], dtype=object)"
      ]
     },
     "execution_count": 11,
     "metadata": {},
     "output_type": "execute_result"
    }
   ],
   "source": [
    "# Приведем формат магазина к одному виду\n",
    "df_points['Формат магазина'].unique()\n",
    "\n",
    "df_points.loc[(df_points['Формат магазина'].isin(['Мини ТЦ', 'Мини-ТЦ']), 'Формат магазина')] = 'мини-ТЦ'\n",
    "df_points.loc[(~(df_points['Формат магазина'].str.contains('ТЦ')), 'Формат магазина')] = 'Стрит'\n",
    "\n",
    "df_points['Формат магазина'].unique()"
   ]
  },
  {
   "cell_type": "code",
   "execution_count": 12,
   "id": "674198a0",
   "metadata": {},
   "outputs": [
    {
     "name": "stdout",
     "output_type": "stream",
     "text": [
      "У заказчика всего 246 точек\n",
      "В обучающей выборке 146 точек\n",
      "Обучающая выборка 59% от всей\n"
     ]
    }
   ],
   "source": [
    "# Сколько всего точек у заказчика\n",
    "n_points = df_points.shape[0]\n",
    "print(f'У заказчика всего {n_points} точек')\n",
    "\n",
    "# Сколько точек в обучающей выборке\n",
    "n_points_train = df_points[df_points['Выборка'] == 'train'].shape[0]\n",
    "print(f'В обучающей выборке {n_points_train} точек')\n",
    "\n",
    "print(f'Обучающая выборка {round(n_points_train/(n_points/100))}% от всей')"
   ]
  },
  {
   "cell_type": "code",
   "execution_count": 13,
   "id": "7805289b",
   "metadata": {
    "scrolled": false
   },
   "outputs": [
    {
     "data": {
      "text/plain": [
       "id точки                 1\n",
       "Адрес                    0\n",
       "Широта                   2\n",
       "Долгота                  2\n",
       "Дата открытия            0\n",
       "Дата закрытия          142\n",
       "Площадь магазина         0\n",
       "Тип входа                1\n",
       "Площадь ТЦ              24\n",
       "Формат магазина          0\n",
       "Парковка                 0\n",
       "Этаж                     2\n",
       "Время работы             6\n",
       "Заполненность ТЦ        45\n",
       "Рядом с эскалатором      0\n",
       "Рядом со входом          0\n",
       "Конкуренты в ТЦ         87\n",
       "Расположение в ТЦ       15\n",
       "Толока                   0\n",
       "Люкс                     0\n",
       "Выборка                  0\n",
       "dtype: int64"
      ]
     },
     "execution_count": 13,
     "metadata": {},
     "output_type": "execute_result"
    }
   ],
   "source": [
    "# Пропуски в тренировочных данных\n",
    "train_points_df = df_points[df_points['Выборка'] == 'train']\n",
    "\n",
    "train_points_df.isna().sum()"
   ]
  },
  {
   "cell_type": "raw",
   "id": "4fff79c0",
   "metadata": {},
   "source": [
    "Для магазинов из тренировочной выборки:\n",
    "- почти нет дат закрытия (возможно они открыты),\n",
    "- много пропусков в данных о заполненности ТЦ, площади, конкурентах, парковке, расположении в тц\n",
    "- уточнить что означают пропуски конкурентов в тц: отсуствие конкурентов или пропущенное значение\n",
    "- аналогично по пропускам парковки \n",
    "\n",
    "Также я бы еще увеличила обучающую выборку до 70-80%.\n",
    "- В колонке 'Выборка'перепутаны занчения, необходимо чтобы у всех точки которые присутсвуют в датасете с выручкой относились к тренировочной выборке остальные к тестовой.\n",
    "- В колонке 'Формат магазина', 'Праковка', 'Этаж' необходимо стандартизировать запсиь формата"
   ]
  },
  {
   "cell_type": "markdown",
   "id": "4f5082bb",
   "metadata": {},
   "source": [
    "## Ответы на вопросы"
   ]
  },
  {
   "cell_type": "raw",
   "id": "a3be7c8f",
   "metadata": {},
   "source": [
    "Ответы на вопросы:\n",
    "\n",
    "Сколько магазинов формата стрит в тестовой выборке?\n",
    "Какова средняя выручка магазинов формата мини ТЦ за 2016 год?\n",
    "Сколько магазинов с бесплатной парковкой?"
   ]
  },
  {
   "cell_type": "code",
   "execution_count": 14,
   "id": "d9935cc0",
   "metadata": {},
   "outputs": [
    {
     "name": "stdout",
     "output_type": "stream",
     "text": [
      "В тестовой выборке 8 магазинов формата стрит.\n"
     ]
    }
   ],
   "source": [
    "# Сколько магазинов формата стрит в тестовой выборке?\n",
    "test_points_df = df_points[df_points['Выборка'] == 'test']\n",
    "\n",
    "print(f\"В тестовой выборке {test_points_df[test_points_df['Формат магазина'] == 'Стрит'].shape[0]} магазинов формата стрит.\")"
   ]
  },
  {
   "cell_type": "code",
   "execution_count": 15,
   "id": "ed24a269",
   "metadata": {},
   "outputs": [
    {
     "data": {
      "text/html": [
       "<div>\n",
       "<style scoped>\n",
       "    .dataframe tbody tr th:only-of-type {\n",
       "        vertical-align: middle;\n",
       "    }\n",
       "\n",
       "    .dataframe tbody tr th {\n",
       "        vertical-align: top;\n",
       "    }\n",
       "\n",
       "    .dataframe thead th {\n",
       "        text-align: right;\n",
       "    }\n",
       "</style>\n",
       "<table border=\"1\" class=\"dataframe\">\n",
       "  <thead>\n",
       "    <tr style=\"text-align: right;\">\n",
       "      <th></th>\n",
       "      <th>2016-01-01</th>\n",
       "      <th>2016-02-01</th>\n",
       "      <th>2016-03-01</th>\n",
       "      <th>2016-04-01</th>\n",
       "      <th>2016-05-01</th>\n",
       "      <th>2016-06-01</th>\n",
       "      <th>2016-07-01</th>\n",
       "      <th>2016-08-01</th>\n",
       "      <th>2016-09-01</th>\n",
       "      <th>2016-10-01</th>\n",
       "      <th>2016-11-01</th>\n",
       "      <th>2016-12-01</th>\n",
       "    </tr>\n",
       "  </thead>\n",
       "  <tbody>\n",
       "    <tr>\n",
       "      <th>11</th>\n",
       "      <td>367034.64</td>\n",
       "      <td>518191.52</td>\n",
       "      <td>612575.47</td>\n",
       "      <td>462814.80</td>\n",
       "      <td>477767.72</td>\n",
       "      <td>451050.10</td>\n",
       "      <td>401384.01</td>\n",
       "      <td>383641.48</td>\n",
       "      <td>422102.43</td>\n",
       "      <td>422386.72</td>\n",
       "      <td>405809.08</td>\n",
       "      <td>856554.57</td>\n",
       "    </tr>\n",
       "    <tr>\n",
       "      <th>14</th>\n",
       "      <td>288251.64</td>\n",
       "      <td>380476.89</td>\n",
       "      <td>409749.79</td>\n",
       "      <td>335297.01</td>\n",
       "      <td>341503.35</td>\n",
       "      <td>310039.59</td>\n",
       "      <td>273176.74</td>\n",
       "      <td>293777.85</td>\n",
       "      <td>343191.18</td>\n",
       "      <td>338595.30</td>\n",
       "      <td>311294.64</td>\n",
       "      <td>588298.82</td>\n",
       "    </tr>\n",
       "  </tbody>\n",
       "</table>\n",
       "</div>"
      ],
      "text/plain": [
       "    2016-01-01  2016-02-01  2016-03-01  2016-04-01  2016-05-01  2016-06-01  \\\n",
       "11   367034.64   518191.52   612575.47   462814.80   477767.72   451050.10   \n",
       "14   288251.64   380476.89   409749.79   335297.01   341503.35   310039.59   \n",
       "\n",
       "    2016-07-01  2016-08-01  2016-09-01  2016-10-01  2016-11-01  2016-12-01  \n",
       "11   401384.01   383641.48   422102.43   422386.72   405809.08   856554.57  \n",
       "14   273176.74   293777.85   343191.18   338595.30   311294.64   588298.82  "
      ]
     },
     "execution_count": 15,
     "metadata": {},
     "output_type": "execute_result"
    },
    {
     "name": "stdout",
     "output_type": "stream",
     "text": [
      "Средняя выручка мини-ТЦ за 2016 год: 335129.28\n"
     ]
    }
   ],
   "source": [
    "# Какова средняя выручка магазинов формата мини ТЦ за 2016 год?\n",
    "\n",
    "# id магазинов мини формата\n",
    "mini_id = train_points_df[train_points_df['Формат магазина'] == 'мини-ТЦ']['id точки']\n",
    "\n",
    "# колонки с выручкой за 2016 год\n",
    "col_2016 = ['2016-01-01', '2016-02-01', '2016-03-01', '2016-04-01',\n",
    "            '2016-05-01', '2016-06-01', '2016-07-01', '2016-08-01', \n",
    "            '2016-09-01', '2016-10-01', '2016-11-01', '2016-12-01']\n",
    "\n",
    "# датасет с доходами от мини-ТЦ за 2016\n",
    "df_mini_2016 = df_proceeds[df_proceeds['id точки'].isin(mini_id)][col_2016]\n",
    "df_mini_2016.head(2)\n",
    "\n",
    "# средняя выручка для магазинов из mini_id\n",
    "print(f\"Средняя выручка мини-ТЦ за 2016 год: {round(df_mini_2016.replace(0, np.NaN).mean().mean(), 2)}\")"
   ]
  },
  {
   "cell_type": "code",
   "execution_count": 16,
   "id": "fa1d2abd",
   "metadata": {},
   "outputs": [
    {
     "name": "stdout",
     "output_type": "stream",
     "text": [
      "Всего 157 магазинов с бесплатной парковкой.\n"
     ]
    }
   ],
   "source": [
    "# Сколько магазинов с бесплатной парковкой?\n",
    "\n",
    "print(f\"Всего {df_points[df_points['Парковка'] == 'free'].shape[0]} магазинов с бесплатной парковкой.\")"
   ]
  },
  {
   "cell_type": "code",
   "execution_count": null,
   "id": "fd289823",
   "metadata": {},
   "outputs": [],
   "source": []
  },
  {
   "cell_type": "code",
   "execution_count": null,
   "id": "43d873ef",
   "metadata": {},
   "outputs": [],
   "source": []
  }
 ],
 "metadata": {
  "kernelspec": {
   "display_name": "Python 3 (ipykernel)",
   "language": "python",
   "name": "python3"
  },
  "language_info": {
   "codemirror_mode": {
    "name": "ipython",
    "version": 3
   },
   "file_extension": ".py",
   "mimetype": "text/x-python",
   "name": "python",
   "nbconvert_exporter": "python",
   "pygments_lexer": "ipython3",
   "version": "3.10.6"
  }
 },
 "nbformat": 4,
 "nbformat_minor": 5
}
